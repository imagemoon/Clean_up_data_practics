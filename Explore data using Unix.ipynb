{
 "cells": [
  {
   "cell_type": "markdown",
   "metadata": {},
   "source": [
    "# Explore data using Unix terminal\n",
    "\n",
    "using citibank trip open dataset"
   ]
  },
  {
   "cell_type": "markdown",
   "metadata": {},
   "source": [
    "## Navigating the filesystem"
   ]
  },
  {
   "cell_type": "code",
   "execution_count": 8,
   "metadata": {
    "collapsed": false
   },
   "outputs": [
    {
     "name": "stdout",
     "output_type": "stream",
     "text": [
      "201402-citibike-tripdata.csv  flip_coins.ipynb\r\n",
      "201402-citibike-tripdata.tsv  intro_command_line.ipynb\r\n",
      "Untitled.ipynb                lecture_2.pdf\r\n",
      "\u001b[31mdownload_trips.sh\u001b[m\u001b[m*\r\n"
     ]
    }
   ],
   "source": [
    "# I have downloaded the necessary data\n",
    "ls"
   ]
  },
  {
   "cell_type": "markdown",
   "metadata": {},
   "source": [
    "## Explore data with head, wc, sort, uniq and awk"
   ]
  },
  {
   "cell_type": "code",
   "execution_count": 1,
   "metadata": {
    "collapsed": false
   },
   "outputs": [
    {
     "name": "stdout",
     "output_type": "stream",
     "text": [
      "\"tripduration\",\"starttime\",\"stoptime\",\"start station id\",\"start station name\",\"start station latitude\",\"start station longitude\",\"end station id\",\"end station name\",\"end station latitude\",\"end station longitude\",\"bikeid\",\"usertype\",\"birth year\",\"gender\"\r\n"
     ]
    }
   ],
   "source": [
    "# Look at the first line\n",
    "head -n1 201402-citibike-tripdata.csv"
   ]
  },
  {
   "cell_type": "code",
   "execution_count": 2,
   "metadata": {
    "collapsed": false
   },
   "outputs": [
    {
     "name": "stdout",
     "output_type": "stream",
     "text": [
      "     1\t\"tripduration\"\n",
      "     2\t\"starttime\"\n",
      "     3\t\"stoptime\"\n",
      "     4\t\"start station id\"\n",
      "     5\t\"start station name\"\n",
      "     6\t\"start station latitude\"\n",
      "     7\t\"start station longitude\"\n",
      "     8\t\"end station id\"\n",
      "     9\t\"end station name\"\n",
      "    10\t\"end station latitude\"\n",
      "    11\t\"end station longitude\"\n",
      "    12\t\"bikeid\"\n",
      "    13\t\"usertype\"\n",
      "    14\t\"birth year\"\n",
      "    15\t\"gender\"\n"
     ]
    }
   ],
   "source": [
    "# Create a list of columns with line number, translating commas to newlines\n",
    "head -n1 201402-citibike-tripdata.csv | tr , '\\n' | cat -n"
   ]
  },
  {
   "cell_type": "code",
   "execution_count": 3,
   "metadata": {
    "collapsed": false
   },
   "outputs": [
    {
     "name": "stdout",
     "output_type": "stream",
     "text": [
      "  224737 201402-citibike-tripdata.csv\n"
     ]
    }
   ],
   "source": [
    "# Count the total number of lines in the file\n",
    "wc -l 201402-citibike-tripdata.csv"
   ]
  },
  {
   "cell_type": "code",
   "execution_count": 4,
   "metadata": {
    "collapsed": false
   },
   "outputs": [
    {
     "name": "stdout",
     "output_type": "stream",
     "text": [
      "\"gender\"\n",
      "\"1\"\n",
      "\"2\"\n",
      "\"2\"\n",
      "\"1\"\n",
      "\"1\"\n",
      "\"1\"\n",
      "\"1\"\n",
      "\"1\"\n",
      "\"1\"\n"
     ]
    }
   ],
   "source": [
    "# Extract gender which locates in 15th column, specifying ',' as a delimiter\n",
    "# Look at first ten lines\n",
    "cut -d, -f15 201402-citibike-tripdata.csv | head"
   ]
  },
  {
   "cell_type": "code",
   "execution_count": 11,
   "metadata": {
    "collapsed": false
   },
   "outputs": [
    {
     "name": "stdout",
     "output_type": "stream",
     "text": [
      "\"1899\"\n",
      "\"1899\"\n",
      "\"1899\"\n",
      "\"1899\"\n",
      "\"1899\"\n",
      "\\N\n",
      "\\N\n",
      "\\N\n",
      "\\N\n",
      "\\N\n",
      "\"1997\"\n",
      "\"1997\"\n",
      "\"1997\"\n",
      "\"1997\"\n",
      "\"1997\"\n"
     ]
    }
   ],
   "source": [
    "# Find the earliest and latest birth year in 14th column\n",
    "cut -d, -f14 201402-citibike-tripdata.csv | sort | head -5\n",
    "cut -d, -f14 201402-citibike-tripdata.csv | sort | tail -5\n",
    "\n",
    "# From the result we know that there are several unvaild data in my dataset\n",
    "# So we want to find the valid lastest birth year (14th column) which is not '\\N \n",
    "cut -d, -f14 201402-citibike-tripdata.csv | grep '[0-9]' | sort | tail -5\n",
    "\n",
    "# Now we know the latest birth year is 1997 (quite young!)\n"
   ]
  },
  {
   "cell_type": "code",
   "execution_count": 7,
   "metadata": {
    "collapsed": false
   },
   "outputs": [
    {
     "name": "stdout",
     "output_type": "stream",
     "text": [
      "\"372\",\"2014-02-01 00:00:03\",\"2014-02-01 00:06:15\",\"285\",\"Broadway & E 14 St\",\"40.73454567\",\"-73.99074142\",\"439\",\"E 4 St & 2 Ave\",\"40.7262807\",\"-73.98978041\",\"15456\",\"Subscriber\",\"1979\",\"2\"\n",
      "\"583\",\"2014-02-01 00:00:32\",\"2014-02-01 00:10:15\",\"357\",\"E 11 St & Broadway\",\"40.73261787\",\"-73.99158043\",\"284\",\"Greenwich Ave & 8 Ave\",\"40.7390169121\",\"-74.0026376103\",\"17400\",\"Subscriber\",\"1981\",\"1\"\n",
      "\"439\",\"2014-02-01 00:02:14\",\"2014-02-01 00:09:33\",\"285\",\"Broadway & E 14 St\",\"40.73454567\",\"-73.99074142\",\"247\",\"Perry St & Bleecker St\",\"40.73535398\",\"-74.00483091\",\"20875\",\"Subscriber\",\"1983\",\"2\"\n",
      "\"707\",\"2014-02-01 00:02:50\",\"2014-02-01 00:14:37\",\"257\",\"Lispenard St & Broadway\",\"40.71939226\",\"-74.00247214\",\"345\",\"W 13 St & 6 Ave\",\"40.73649403\",\"-73.99704374\",\"17757\",\"Subscriber\",\"1962\",\"1\"\n",
      "\"695\",\"2014-02-01 00:06:53\",\"2014-02-01 00:18:28\",\"490\",\"8 Ave & W 33 St\",\"40.751551\",\"-73.993934\",\"468\",\"Broadway & W 55 St\",\"40.7652654\",\"-73.98192338\",\"21122\",\"Subscriber\",\"1979\",\"1\"\n",
      "\"892\",\"2014-02-01 00:07:22\",\"2014-02-01 00:22:14\",\"499\",\"Broadway & W 60 St\",\"40.76915505\",\"-73.98191841\",\"490\",\"8 Ave & W 33 St\",\"40.751551\",\"-73.993934\",\"20799\",\"Subscriber\",\"1968\",\"1\"\n",
      "\"636\",\"2014-02-01 00:08:25\",\"2014-02-01 00:19:01\",\"285\",\"Broadway & E 14 St\",\"40.73454567\",\"-73.99074142\",\"393\",\"E 5 St & Avenue C\",\"40.72299208\",\"-73.97995466\",\"19764\",\"Subscriber\",\"1984\",\"1\"\n",
      "\"878\",\"2014-02-01 00:09:03\",\"2014-02-01 00:23:41\",\"497\",\"E 17 St & Broadway\",\"40.73704984\",\"-73.99009296\",\"477\",\"W 41 St & 8 Ave\",\"40.75640548\",\"-73.9900262\",\"19897\",\"Subscriber\",\"1987\",\"1\"\n",
      "\"1064\",\"2014-02-01 00:12:27\",\"2014-02-01 00:30:11\",\"444\",\"Broadway & W 24 St\",\"40.7423543\",\"-73.98915076\",\"238\",\"Bank St & Washington St\",\"40.7361967\",\"-74.00859207\",\"14690\",\"Subscriber\",\"1996\",\"1\"\n",
      "\"469\",\"2014-02-01 00:12:40\",\"2014-02-01 00:20:29\",\"497\",\"E 17 St & Broadway\",\"40.73704984\",\"-73.99009296\",\"352\",\"W 56 St & 6 Ave\",\"40.76340613\",\"-73.97722479\",\"20132\",\"Subscriber\",\"1975\",\"1\"\n"
     ]
    }
   ],
   "source": [
    "# Find all trips either starting or ending on Broadway\n",
    "grep Broadway 201402-citibike-tripdata.csv | head\n",
    "\n",
    "# Result is too massy"
   ]
  },
  {
   "cell_type": "code",
   "execution_count": 9,
   "metadata": {
    "collapsed": false
   },
   "outputs": [
    {
     "name": "stdout",
     "output_type": "stream",
     "text": [
      "    2776\n"
     ]
    }
   ],
   "source": [
    "# Count all trips that start and end on Broadway (5th and 9th columns)\n",
    "\n",
    "cut -d, -f5,9 201402-citibike-tripdata.csv | grep 'Broadway.*Broadway' | wc -l\n"
   ]
  },
  {
   "cell_type": "code",
   "execution_count": 10,
   "metadata": {
    "collapsed": false
   },
   "outputs": [
    {
     "name": "stdout",
     "output_type": "stream",
     "text": [
      "\"Broadway & Battery Pl\"\n",
      "\"Broadway & Berry St\"\n",
      "\"Broadway & E 14 St\"\n",
      "\"Broadway & E 22 St\"\n",
      "\"Broadway & W 24 St\"\n",
      "\"Broadway & W 29 St\"\n",
      "\"Broadway & W 32 St\"\n",
      "\"Broadway & W 36 St\"\n",
      "\"Broadway & W 37 St\"\n",
      "\"Broadway & W 39 St\"\n",
      "\"Broadway & W 41 St\"\n",
      "\"Broadway & W 49 St\"\n",
      "\"Broadway & W 51 St\"\n",
      "\"Broadway & W 53 St\"\n",
      "\"Broadway & W 55 St\"\n",
      "\"Broadway & W 58 St\"\n",
      "\"Broadway & W 60 St\"\n",
      "\"E 11 St & Broadway\"\n",
      "\"E 17 St & Broadway\"\n",
      "\"Franklin St & W Broadway\"\n",
      "\"Liberty St & Broadway\"\n",
      "\"Lispenard St & Broadway\"\n",
      "\"Pike St & E Broadway\"\n",
      "\"Reade St & Broadway\"\n",
      "\"W Broadway & Spring St\"\n",
      "\"Washington Pl & Broadway\"\n"
     ]
    }
   ],
   "source": [
    "# List all of the unique stations in starting at Broadway (5th)\n",
    "# To achieve this goal, we need first sort then uniq\n",
    "cut -d, -f5 201402-citibike-tripdata.csv | grep Broadway | sort | uniq"
   ]
  },
  {
   "cell_type": "code",
   "execution_count": 12,
   "metadata": {
    "collapsed": false
   },
   "outputs": [
    {
     "name": "stdout",
     "output_type": "stream",
     "text": [
      "\"tripduration\"\t\"starttime\"\t\"stoptime\"\t\"start station id\"\t\"start station name\"\t\"start station latitude\"\t\"start station longitude\"\t\"end station id\"\t\"end station name\"\t\"end station latitude\"\t\"end station longitude\"\t\"bikeid\"\t\"usertype\"\t\"birth year\"\t\"gender\"\r\n"
     ]
    }
   ],
   "source": [
    "# convert comma-separated file to tab-separated file\n",
    "cat 201402-citibike-tripdata.csv | tr , '\\t' > 201402-citibike-tripdata.tsv\n",
    "head -n1 201402-citibike-tripdata.tsv"
   ]
  },
  {
   "cell_type": "code",
   "execution_count": 13,
   "metadata": {
    "collapsed": false
   },
   "outputs": [
    {
     "name": "stdout",
     "output_type": "stream",
     "text": [
      " 156 \"E 43 St & Vanderbilt Ave\"\t\"W 41 St & 8 Ave\"\n",
      " 124 \"Pershing Square N\"\t\"W 33 St & 7 Ave\"\n",
      " 122 \"Norfolk St & Broome St\"\t\"Henry St & Grand St\"\n",
      " 121 \"E 7 St & Avenue A\"\t\"Lafayette St & E 8 St\"\n",
      " 118 \"W 17 St & 8 Ave\"\t\"8 Ave & W 31 St\"\n",
      " 118 \"Henry St & Grand St\"\t\"Norfolk St & Broome St\"\n",
      " 115 \"Lafayette St & E 8 St\"\t\"E 6 St & Avenue B\"\n",
      " 115 \"Central Park S & 6 Ave\"\t\"Central Park S & 6 Ave\"\n",
      " 108 \"E 10 St & Avenue A\"\t\"Lafayette St & E 8 St\"\n",
      " 103 \"Canal St & Rutgers St\"\t\"Henry St & Grand St\"\n"
     ]
    }
   ],
   "source": [
    "# Find the 10 most frequent station-to-station trips (start: 5th column; end: 9th column)\n",
    "cut -f5,9 201402-citibike-tripdata.tsv | sort | uniq -c | sort -nr | head\n"
   ]
  },
  {
   "cell_type": "code",
   "execution_count": 1,
   "metadata": {
    "collapsed": false
   },
   "outputs": [
    {
     "name": "stdout",
     "output_type": "stream",
     "text": [
      "1\t\"gender\"\n",
      "176526\t\"1\"\n",
      "41479\t\"2\"\n",
      "6731\t\"0\"\n"
     ]
    }
   ],
   "source": [
    "# Use awk to count trips by gender without having to sort\n",
    "awk -F, '{counts[$15]++} END {for (k in counts) print counts[k]\"\\t\" k}' 201402-citibike-tripdata.csv\n",
    "\n",
    "# Notice men are more likely to trip"
   ]
  },
  {
   "cell_type": "code",
   "execution_count": 2,
   "metadata": {
    "collapsed": false
   },
   "outputs": [
    {
     "name": "stdout",
     "output_type": "stream",
     "text": [
      "sort and uniq\n",
      "6731 \"0\"\n",
      "176526 \"1\"\n",
      "41479 \"2\"\n",
      "   1 \"gender\"\n",
      "\n",
      "real\t0m2.896s\n",
      "user\t0m2.885s\n",
      "sys\t0m0.034s\n",
      "\n",
      "awk\n",
      "176526\t\"1\"\n",
      "41479\t\"2\"\n",
      "1\t\"gender\"\n",
      "6731\t\"0\"\n",
      "\n",
      "real\t0m1.797s\n",
      "user\t0m1.766s\n",
      "sys\t0m0.023s\n"
     ]
    }
   ],
   "source": [
    "# Let's go deeper to find which is optimal, sort & uniq or awk\n",
    "echo \"sort and uniq\"\n",
    "time cut -d, -f15 201402-citibike-tripdata.csv | sort | uniq -c\n",
    "echo\n",
    "echo \"awk\"\n",
    "time awk -F, '{counts[$15]++} END {for (k in counts) print counts[k]\"\\t\" k }' 201402-citibike-tripdata.csv\n",
    "\n",
    "# It looks like awk is better"
   ]
  },
  {
   "cell_type": "code",
   "execution_count": 3,
   "metadata": {
    "collapsed": false
   },
   "outputs": [
    {
     "name": "stdout",
     "output_type": "stream",
     "text": [
      "\"1899\"\t\n",
      "\"1900\"\t\n",
      "\"1901\"\t\n",
      "\"1907\"\t\n",
      "\"1910\"\t\n",
      "\"1913\"\t\n",
      "\"1917\"\t\n",
      "\"1921\"\t\n",
      "\"1922\"\t\n",
      "\"1926\"\t\n",
      "\"1927\"\t\n",
      "\"1932\"\t\n",
      "\"1933\"\t\n",
      "\"1934\"\t\n",
      "\"1935\"\t\n",
      "\"1936\"\t\n",
      "\"1937\"\t\n",
      "\"1938\"\t\n",
      "\"1939\"\t\n",
      "\"1940\"\t\n",
      "\"1941\"\t*\n",
      "\"1942\"\t*\n",
      "\"1943\"\t*\n",
      "\"1944\"\t***\n",
      "\"1945\"\t**\n",
      "\"1946\"\t****\n",
      "\"1947\"\t****\n",
      "\"1948\"\t********\n",
      "\"1949\"\t*******\n",
      "\"1950\"\t********\n",
      "\"1951\"\t***********\n",
      "\"1952\"\t***********\n",
      "\"1953\"\t*****************\n",
      "\"1954\"\t*******************\n",
      "\"1955\"\t*******************\n",
      "\"1956\"\t***********************\n",
      "\"1957\"\t**********************\n",
      "\"1958\"\t*****************************\n",
      "\"1959\"\t****************************\n",
      "\"1960\"\t**********************************\n",
      "\"1961\"\t***************************\n",
      "\"1962\"\t************************************\n",
      "\"1963\"\t******************************************\n",
      "\"1964\"\t******************************************\n",
      "\"1965\"\t************************************\n",
      "\"1966\"\t****************************************\n",
      "\"1967\"\t**********************************************\n",
      "\"1968\"\t********************************************\n",
      "\"1969\"\t******************************************************\n",
      "\"1970\"\t*********************************************************\n",
      "\"1971\"\t*************************************************\n",
      "\"1972\"\t**************************************************\n",
      "\"1973\"\t*************************************************\n",
      "\"1974\"\t**********************************************************\n",
      "\"1975\"\t************************************************\n",
      "\"1976\"\t*******************************************************\n",
      "\"1977\"\t***********************************************************\n",
      "\"1978\"\t********************************************************************\n",
      "\"1979\"\t*****************************************************************************\n",
      "\"1980\"\t****************************************************************************\n",
      "\"1981\"\t**********************************************************************************\n",
      "\"1982\"\t*******************************************************************************\n",
      "\"1983\"\t***************************************************************************************\n",
      "\"1984\"\t*******************************************************************************************\n",
      "\"1985\"\t*********************************************************************************************\n",
      "\"1986\"\t*********************************************************************************\n",
      "\"1987\"\t**************************************************************************\n",
      "\"1988\"\t********************************************************************************\n",
      "\"1989\"\t********************************************************************\n",
      "\"1990\"\t********************************************************\n",
      "\"1991\"\t******************************\n",
      "\"1992\"\t*********************\n",
      "\"1993\"\t****************\n",
      "\"1994\"\t************\n",
      "\"1995\"\t********\n",
      "\"1996\"\t***\n",
      "\"1997\"\t**\n",
      "\"birth\t\n",
      "\\N\t*******************************************************************\n"
     ]
    }
   ],
   "source": [
    "# Let's do something fun\n",
    "# Plot a histogram of birth yeats using bash (each * counts 100 peaple)\n",
    "cut -d, -f14 201402-citibike-tripdata.csv | sort | uniq -c | awk '{printf $2\"\\t\"; for (i=1; i<=$1/100; i++) printf \"*\"; printf \"\\n\"}'"
   ]
  },
  {
   "cell_type": "code",
   "execution_count": null,
   "metadata": {
    "collapsed": true
   },
   "outputs": [],
   "source": []
  }
 ],
 "metadata": {
  "kernelspec": {
   "display_name": "Bash",
   "language": "bash",
   "name": "bash"
  },
  "language_info": {
   "codemirror_mode": "shell",
   "file_extension": ".sh",
   "mimetype": "text/x-sh",
   "name": "bash"
  }
 },
 "nbformat": 4,
 "nbformat_minor": 2
}
